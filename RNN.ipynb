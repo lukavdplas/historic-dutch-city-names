{
 "cells": [
  {
   "cell_type": "markdown",
   "metadata": {},
   "source": [
    "# A neural network approach\n",
    "\n",
    "The ngram model achieved reasonable results, but there are several pitfalls of ngrams that are hard to get around. For small n values, ngram models don't keep enough history of the word. For large n values, the model can't make proper inductions, and will just repeat words from the training corpus.\n",
    "\n",
    "A neural network can be a good way to work through a word, remembering what is important and forgetting what is not. Since words are of variable length, it is good to use a recurrent neural network, which can iterate through a word."
   ]
  },
  {
   "cell_type": "markdown",
   "metadata": {},
   "source": [
    "## Imports"
   ]
  },
  {
   "cell_type": "code",
   "execution_count": 254,
   "metadata": {},
   "outputs": [],
   "source": [
    "import random\n",
    "import numpy as np\n",
    "from sklearn.model_selection import train_test_split\n",
    "import keras\n",
    "from keras.models import Sequential\n",
    "from keras.layers import Dense, Activation, SimpleRNN, LSTM\n",
    "from keras.preprocessing.sequence import pad_sequences\n",
    "from keras.optimizers import RMSprop\n",
    "import matplotlib.pyplot as plt\n",
    "\n",
    "#pathnames\n",
    "cities_file = 'city-names.txt'\n",
    "\n",
    "#import cities\n",
    "with open(cities_file) as file:\n",
    "    cities = [line.strip() for line in file.readlines()]"
   ]
  },
  {
   "cell_type": "markdown",
   "metadata": {},
   "source": [
    "## Converting words to NN inputs\n",
    "\n",
    "We start by tokenising city names into lists of characters"
   ]
  },
  {
   "cell_type": "code",
   "execution_count": 3,
   "metadata": {},
   "outputs": [],
   "source": [
    "def tokenize(name):\n",
    "    \"\"\"Turn a string into a list of character tokens.\"\"\"\n",
    "    #name = name.lower() #ignore cases\n",
    "    characters = [c for c in name] #make a list of characters\n",
    "    characters = ['<START>'] + characters + ['<STOP>'] #add beginning and end token\n",
    "    return characters\n",
    "\n",
    "tokenized_cities = [tokenize(city) for city in cities]"
   ]
  },
  {
   "cell_type": "code",
   "execution_count": 6,
   "metadata": {},
   "outputs": [],
   "source": [
    "#make a list of all characters\n",
    "characters = sorted(list(set(char for city in tokenized_cities for char  in city)))\n",
    "\n",
    "def char_to_vec(char):\n",
    "    \"\"\"Conversion from a character to a one-hot vector\"\"\"\n",
    "    i = characters.index(char)\n",
    "    v = np.zeros(len(characters))\n",
    "    v[i] = 1\n",
    "    return v"
   ]
  },
  {
   "cell_type": "code",
   "execution_count": 59,
   "metadata": {},
   "outputs": [],
   "source": [
    "maxlen = max(len(city) for city in tokenized_cities)\n",
    "\n",
    "#converting words to input and output matrices\n",
    "\n",
    "def tokens_to_input(tokens):\n",
    "    \"\"\"Create list of inputs \"\"\"\n",
    "    in_tokens = tokens[:-1] #exclude the stop symbol\n",
    "    inputs = list()\n",
    "    for i in range(len(in_tokens)):\n",
    "        padding = [np.zeros(len(characters)) for i in range(maxlen - (i + 1))]\n",
    "        vectors = [char_to_vec(char) for char in in_tokens[:i]]\n",
    "        matrix = np.stack(padding + vectors)\n",
    "        inputs.append(matrix)\n",
    "        \n",
    "    return inputs\n",
    "    \n",
    "def tokens_to_output(tokens):\n",
    "    \"\"\"Create the list of output vectors for a word\"\"\"\n",
    "    out_tokens = tokens[1:] #exclude the start symbol and shift everything 1 step to the front\n",
    "    vectors = [char_to_vec(char)for char in out_tokens]\n",
    "    return vectors"
   ]
  },
  {
   "cell_type": "code",
   "execution_count": 78,
   "metadata": {},
   "outputs": [],
   "source": [
    "# generate the input and target output presentations\n",
    "input_stacks = [tokens_to_input(tokens) for tokens in tokenized_cities]\n",
    "output_stacks = [tokens_to_output(tokens) for tokens in tokenized_cities]\n",
    "\n",
    "#train test split\n",
    "cities_train, cities_val, X_train_raw, X_val_raw, Y_train_raw, Y_val_raw = train_test_split(cities, input_stacks, output_stacks)\n",
    "\n",
    "#unfold input and output stacks\n",
    "def unfold_stacks(data):\n",
    "    return [array for city_arrays in data for array in city_arrays]\n",
    "\n",
    "X_train_raw = unfold_stacks(X_train_raw)\n",
    "X_val_raw = unfold_stacks(X_val_raw)\n",
    "Y_train_raw = unfold_stacks(Y_train_raw)\n",
    "Y_val_raw = unfold_stacks(Y_val_raw)"
   ]
  },
  {
   "cell_type": "markdown",
   "metadata": {},
   "source": [
    "## Generate batches"
   ]
  },
  {
   "cell_type": "code",
   "execution_count": 80,
   "metadata": {},
   "outputs": [],
   "source": [
    "X_train = pad_sequences(X_train_raw, dtype = 'float')\n",
    "Y_train = pad_sequences(Y_train_raw, dtype = 'float')\n",
    "X_val = pad_sequences(X_val_raw, dtype = 'float')\n",
    "Y_val = pad_sequences(Y_val_raw, dtype = 'float')"
   ]
  },
  {
   "cell_type": "code",
   "execution_count": 81,
   "metadata": {},
   "outputs": [
    {
     "name": "stdout",
     "output_type": "stream",
     "text": [
      "(2332, 18, 49)\n",
      "(2332, 49)\n",
      "(770, 18, 49)\n",
      "(770, 49)\n"
     ]
    }
   ],
   "source": [
    "print(X_train.shape)\n",
    "print(Y_train.shape)\n",
    "print(X_val.shape)\n",
    "print(Y_val.shape)"
   ]
  },
  {
   "cell_type": "markdown",
   "metadata": {},
   "source": [
    "## Defining the network"
   ]
  },
  {
   "cell_type": "code",
   "execution_count": 242,
   "metadata": {},
   "outputs": [],
   "source": [
    "#defining some values\n",
    "\n",
    "#model dimensions\n",
    "features = len(characters)\n",
    "hidden_size = 20\n",
    "\n",
    "#training\n",
    "batch_size = 30\n",
    "epochs = 40"
   ]
  },
  {
   "cell_type": "code",
   "execution_count": 265,
   "metadata": {},
   "outputs": [],
   "source": [
    "model = Sequential([LSTM(units = hidden_size, activation = 'relu', recurrent_initializer='identity', bias_initializer='zeros'),\n",
    "                    Dense(units = features),\n",
    "                    Activation('softmax')])"
   ]
  },
  {
   "cell_type": "markdown",
   "metadata": {},
   "source": [
    "## Training"
   ]
  },
  {
   "cell_type": "code",
   "execution_count": 266,
   "metadata": {},
   "outputs": [
    {
     "name": "stdout",
     "output_type": "stream",
     "text": [
      "Train on 2332 samples, validate on 770 samples\n",
      "Epoch 1/40\n",
      " - 1s - loss: 3.8620 - accuracy: 0.1805 - val_loss: 3.0352 - val_accuracy: 0.1870\n",
      "Epoch 2/40\n",
      " - 1s - loss: 3.0993 - accuracy: 0.2041 - val_loss: 2.9062 - val_accuracy: 0.2143\n",
      "Epoch 3/40\n",
      " - 1s - loss: 2.8880 - accuracy: 0.2221 - val_loss: 2.7985 - val_accuracy: 0.2390\n",
      "Epoch 4/40\n",
      " - 1s - loss: 2.7983 - accuracy: 0.2234 - val_loss: 2.7569 - val_accuracy: 0.2442\n",
      "Epoch 5/40\n",
      " - 1s - loss: 2.7333 - accuracy: 0.2479 - val_loss: 2.6864 - val_accuracy: 0.2623\n",
      "Epoch 6/40\n",
      " - 1s - loss: 2.6353 - accuracy: 0.2539 - val_loss: 2.6604 - val_accuracy: 0.2597\n",
      "Epoch 7/40\n",
      " - 1s - loss: 2.5828 - accuracy: 0.2607 - val_loss: 2.6493 - val_accuracy: 0.2636\n",
      "Epoch 8/40\n",
      " - 1s - loss: 2.8268 - accuracy: 0.2770 - val_loss: 2.6790 - val_accuracy: 0.2727\n",
      "Epoch 9/40\n",
      " - 1s - loss: 2.4673 - accuracy: 0.2817 - val_loss: 2.5973 - val_accuracy: 0.2701\n",
      "Epoch 10/40\n",
      " - 1s - loss: 3.3163 - accuracy: 0.2925 - val_loss: 2.5938 - val_accuracy: 0.2675\n",
      "Epoch 11/40\n",
      " - 1s - loss: 2.3861 - accuracy: 0.2972 - val_loss: 2.8002 - val_accuracy: 0.2792\n",
      "Epoch 12/40\n",
      " - 1s - loss: 2.3494 - accuracy: 0.3105 - val_loss: 2.5463 - val_accuracy: 0.2727\n",
      "Epoch 13/40\n",
      " - 1s - loss: 2.3168 - accuracy: 0.3079 - val_loss: 2.5971 - val_accuracy: 0.2896\n",
      "Epoch 14/40\n",
      " - 1s - loss: 2.2855 - accuracy: 0.3113 - val_loss: 2.9619 - val_accuracy: 0.2766\n",
      "Epoch 15/40\n",
      " - 1s - loss: 2.4527 - accuracy: 0.3259 - val_loss: 2.6592 - val_accuracy: 0.2831\n",
      "Epoch 16/40\n",
      " - 1s - loss: 2.2137 - accuracy: 0.3370 - val_loss: 2.5643 - val_accuracy: 0.2779\n",
      "Epoch 17/40\n",
      " - 1s - loss: 2.2031 - accuracy: 0.3452 - val_loss: 3.0195 - val_accuracy: 0.2857\n",
      "Epoch 18/40\n",
      " - 1s - loss: 2.1873 - accuracy: 0.3353 - val_loss: 2.5755 - val_accuracy: 0.2870\n",
      "Epoch 19/40\n",
      " - 1s - loss: 2.1916 - accuracy: 0.3388 - val_loss: 3.8511 - val_accuracy: 0.2857\n",
      "Epoch 20/40\n",
      " - 1s - loss: 2.1672 - accuracy: 0.3401 - val_loss: 2.6213 - val_accuracy: 0.2883\n",
      "Epoch 21/40\n",
      " - 1s - loss: 2.1189 - accuracy: 0.3533 - val_loss: 2.6232 - val_accuracy: 0.2857\n",
      "Epoch 22/40\n",
      " - 1s - loss: 2.1028 - accuracy: 0.3508 - val_loss: 2.6272 - val_accuracy: 0.2883\n",
      "Epoch 23/40\n",
      " - 1s - loss: 2.0812 - accuracy: 0.3649 - val_loss: 3.0088 - val_accuracy: 0.2909\n",
      "Epoch 24/40\n",
      " - 1s - loss: 2.0769 - accuracy: 0.3658 - val_loss: 2.7062 - val_accuracy: 0.2753\n",
      "Epoch 25/40\n",
      " - 1s - loss: 2.0673 - accuracy: 0.3684 - val_loss: 2.8805 - val_accuracy: 0.2831\n",
      "Epoch 26/40\n",
      " - 1s - loss: 2.0453 - accuracy: 0.3572 - val_loss: 3.1573 - val_accuracy: 0.2818\n",
      "Epoch 27/40\n",
      " - 1s - loss: 2.0306 - accuracy: 0.3684 - val_loss: 3.9508 - val_accuracy: 0.2649\n",
      "Epoch 28/40\n",
      " - 1s - loss: 2.0469 - accuracy: 0.3735 - val_loss: 2.6968 - val_accuracy: 0.2844\n",
      "Epoch 29/40\n",
      " - 1s - loss: 2.0219 - accuracy: 0.3735 - val_loss: 2.9100 - val_accuracy: 0.2597\n",
      "Epoch 30/40\n",
      " - 1s - loss: 1.9773 - accuracy: 0.3825 - val_loss: 2.8643 - val_accuracy: 0.2623\n",
      "Epoch 31/40\n",
      " - 1s - loss: 1.9887 - accuracy: 0.3799 - val_loss: 2.8558 - val_accuracy: 0.2844\n",
      "Epoch 32/40\n",
      " - 1s - loss: 1.9630 - accuracy: 0.3932 - val_loss: 2.9122 - val_accuracy: 0.2818\n",
      "Epoch 33/40\n",
      " - 1s - loss: 1.9516 - accuracy: 0.3885 - val_loss: 2.8752 - val_accuracy: 0.2909\n",
      "Epoch 34/40\n",
      " - 1s - loss: 1.9554 - accuracy: 0.3902 - val_loss: 2.9023 - val_accuracy: 0.2805\n",
      "Epoch 35/40\n",
      " - 1s - loss: 1.9298 - accuracy: 0.3907 - val_loss: 2.9168 - val_accuracy: 0.2883\n",
      "Epoch 36/40\n",
      " - 1s - loss: 1.9410 - accuracy: 0.3949 - val_loss: 3.7119 - val_accuracy: 0.2792\n",
      "Epoch 37/40\n",
      " - 1s - loss: 1.9176 - accuracy: 0.4117 - val_loss: 4.3610 - val_accuracy: 0.2662\n",
      "Epoch 38/40\n",
      " - 1s - loss: 1.9110 - accuracy: 0.4031 - val_loss: 3.1456 - val_accuracy: 0.2792\n",
      "Epoch 39/40\n",
      " - 1s - loss: 1.8878 - accuracy: 0.4078 - val_loss: 3.0197 - val_accuracy: 0.2805\n",
      "Epoch 40/40\n",
      " - 1s - loss: 1.8984 - accuracy: 0.4078 - val_loss: 3.2354 - val_accuracy: 0.2753\n"
     ]
    }
   ],
   "source": [
    "optimizer = RMSprop(learning_rate=0.01)\n",
    "model.compile(loss='categorical_crossentropy',\n",
    "              optimizer=optimizer,\n",
    "              metrics=['accuracy'])\n",
    "\n",
    "history = model.fit(X_train, Y_train, \n",
    "                    batch_size = batch_size, \n",
    "                    epochs=epochs,\n",
    "                    validation_data=(X_val, Y_val),\n",
    "                    verbose = 2)"
   ]
  },
  {
   "cell_type": "code",
   "execution_count": 267,
   "metadata": {},
   "outputs": [
    {
     "name": "stdout",
     "output_type": "stream",
     "text": [
      "Model: \"sequential_32\"\n",
      "_________________________________________________________________\n",
      "Layer (type)                 Output Shape              Param #   \n",
      "=================================================================\n",
      "lstm_3 (LSTM)                (None, 20)                5600      \n",
      "_________________________________________________________________\n",
      "dense_33 (Dense)             (None, 49)                1029      \n",
      "_________________________________________________________________\n",
      "activation_30 (Activation)   (None, 49)                0         \n",
      "=================================================================\n",
      "Total params: 6,629\n",
      "Trainable params: 6,629\n",
      "Non-trainable params: 0\n",
      "_________________________________________________________________\n"
     ]
    }
   ],
   "source": [
    "model.summary()"
   ]
  },
  {
   "cell_type": "code",
   "execution_count": 268,
   "metadata": {
    "scrolled": true
   },
   "outputs": [
    {
     "data": {
      "text/plain": [
       "Text(0, 0.5, 'accuracy')"
      ]
     },
     "execution_count": 268,
     "metadata": {},
     "output_type": "execute_result"
    },
    {
     "data": {
      "image/png": "[encoded data removed]",
      "text/plain": [
       "<Figure size 432x288 with 2 Axes>"
      ]
     },
     "metadata": {},
     "output_type": "display_data"
    }
   ],
   "source": [
    "#plot training history\n",
    "\n",
    "fig, ax1 = plt.subplots()\n",
    "\n",
    "\n",
    "color = 'cornflowerblue' \n",
    "ax1.plot(history.history['loss'], label = 'training loss', linestyle = '--', color = color)\n",
    "ax1.plot(history.history['val_loss'], label = 'valuation loss', color = color)\n",
    "ax1.tick_params(axis='y', labelcolor=color)\n",
    "ax1.set_ylabel('loss')\n",
    "\n",
    "ax2 = ax1.twinx()\n",
    "\n",
    "color = 'coral'\n",
    "ax2.plot(history.history['accuracy'], label = 'training accuracy', linestyle = '--', color = color)\n",
    "ax2.plot(history.history['val_accuracy'], label = 'valuation accuracy', color = color)\n",
    "ax2.tick_params(axis='y', labelcolor=color)\n",
    "ax2.set_ylabel('accuracy')\n",
    "\n",
    "#fig.legend()"
   ]
  },
  {
   "cell_type": "code",
   "execution_count": 150,
   "metadata": {},
   "outputs": [
    {
     "name": "stdout",
     "output_type": "stream",
     "text": [
      "770/770 [==============================] - 0s 60us/step\n",
      "[2.541330257948343, 0.26103895902633667]\n",
      "2332/2332 [==============================] - 0s 50us/step\n",
      "[2.4154292093541976, 0.28130361437797546]\n"
     ]
    }
   ],
   "source": [
    "print(model.evaluate(X_val, Y_val))\n",
    "print(model.evaluate(X_train, Y_train))"
   ]
  },
  {
   "cell_type": "markdown",
   "metadata": {},
   "source": [
    "## Generate city names"
   ]
  },
  {
   "cell_type": "code",
   "execution_count": 269,
   "metadata": {},
   "outputs": [],
   "source": [
    "def output_to_char(vector):\n",
    "    choice = np.random.choice(characters, p = vector)\n",
    "    return choice\n",
    "\n",
    "def start_matrix():\n",
    "    vec = char_to_vec('<START>')\n",
    "    matrix = np.expand_dims(vec, axis=0)\n",
    "    return matrix\n",
    "    \n",
    "def predict_next(model, word):\n",
    "    batch = pad_sequences(word, maxlen = maxlen - 1)\n",
    "    prediction = model.predict(batch)\n",
    "    predicted_char = output_to_char(prediction[0])\n",
    "    return predicted_char\n",
    "    \n",
    "def generate_word(model):\n",
    "    word = start_matrix()\n",
    "    \n",
    "    #keep generating new characters    \n",
    "    finished = False\n",
    "    \n",
    "    while not finished:\n",
    "        next_char = predict_next(model, [word])\n",
    "        \n",
    "        #signal stop when the last character was a stop symbol\n",
    "        if next_char == '<STOP>':\n",
    "            finished = True\n",
    "        \n",
    "        new_vec = np.expand_dims(char_to_vec(next_char), axis = 0)\n",
    "        word = np.vstack([word, new_vec])\n",
    "    \n",
    "    #convert word to string\n",
    "    indices = [np.nonzero(row)[0][0] for row in word]\n",
    "    tokens = [characters[i] for i in indices]\n",
    "    string = '' .join(tokens[1:-1])\n",
    "\n",
    "    return string"
   ]
  },
  {
   "cell_type": "code",
   "execution_count": 270,
   "metadata": {},
   "outputs": [
    {
     "name": "stdout",
     "output_type": "stream",
     "text": [
      "asbdk\n",
      "eborna\n",
      "eeoeeebue\n",
      "yesasl\n",
      "over\n",
      "nsele\n",
      "ule\n",
      "eprsce\n",
      "adlltrhvitnmn\n",
      "lraglnhn\n"
     ]
    }
   ],
   "source": [
    "for i in range(10):\n",
    "    print(generate_word(model))"
   ]
  }
 ],
 "metadata": {
  "kernelspec": {
   "display_name": "Python 3",
   "language": "python",
   "name": "python3"
  },
  "language_info": {
   "codemirror_mode": {
    "name": "ipython",
    "version": 3
   },
   "file_extension": ".py",
   "mimetype": "text/x-python",
   "name": "python",
   "nbconvert_exporter": "python",
   "pygments_lexer": "ipython3",
   "version": "3.6.9"
  }
 },
 "nbformat": 4,
 "nbformat_minor": 2
}
